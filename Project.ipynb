{
  "nbformat": 4,
  "nbformat_minor": 0,
  "metadata": {
    "colab": {
      "provenance": []
    },
    "kernelspec": {
      "name": "python3",
      "display_name": "Python 3"
    },
    "language_info": {
      "name": "python"
    }
  },
  "cells": [
    {
      "cell_type": "code",
      "execution_count": null,
      "metadata": {
        "id": "6CTtIJ1uj3O0"
      },
      "outputs": [],
      "source": [
        "import pandas as pd\n",
        "import numpy as np\n",
        "import plotly.express as px\n",
        "import plotly.graph_objects as go\n",
        "from plotly.subplots import make_subplots\n",
        "\n",
        "pd.options.plotting.backend = \"plotly\"\n"
      ]
    },
    {
      "cell_type": "code",
      "source": [],
      "metadata": {
        "id": "rohTkRNwsTxW"
      },
      "execution_count": null,
      "outputs": []
    },
    {
      "cell_type": "code",
      "source": [
        "# This Python 3 environment comes with many helpful analytics libraries installed\n",
        "# It is defined by the kaggle/python Docker image: https://github.com/kaggle/docker-python\n",
        "# For example, here's several helpful packages to load\n",
        "\n",
        "import numpy as np # linear algebra\n",
        "import pandas as pd # data processing, CSV file I/O (e.g. pd.read_csv)\n",
        "\n",
        "# Input data files are available in the read-only \"../input/\" directory\n",
        "# For example, running this (by clicking run or pressing Shift+Enter) will list all files under the input directory\n",
        "\n",
        "import os\n",
        "for dirname, _, filenames in os.walk('/kaggle/input'):\n",
        "    for filename in filenames:\n",
        "        print(os.path.join(dirname, filename))\n",
        "\n",
        "# You can write up to 20GB to the current directory (/kaggle/working/) that gets preserved as output when you create a version using \"Save & Run All\"\n",
        "# You can also write temporary files to /kaggle/temp/, but they won't be saved outside of the current session"
      ],
      "metadata": {
        "id": "LeKex_eKZLTE"
      },
      "execution_count": null,
      "outputs": []
    },
    {
      "cell_type": "code",
      "source": [
        "train_df = pd.read_csv(\"/kaggle/input/banking-dataset-marketing-targets/train.csv\", sep=\";\")\n",
        "test_df = pd.read_csv(\"/kaggle/input/banking-dataset-marketing-targets/test.csv\", sep=\";\")\n",
        "rain_df.head()"
      ],
      "metadata": {
        "colab": {
          "base_uri": "https://localhost:8080/",
          "height": 344
        },
        "id": "KiXZnD1NZRPY",
        "outputId": "35a00b47-51aa-4913-8205-e6367d63f83d"
      },
      "execution_count": null,
      "outputs": [
        {
          "output_type": "error",
          "ename": "FileNotFoundError",
          "evalue": "[Errno 2] No such file or directory: '/kaggle/input/banking-dataset-marketing-targets/train.csv'",
          "traceback": [
            "\u001b[0;31m---------------------------------------------------------------------------\u001b[0m",
            "\u001b[0;31mFileNotFoundError\u001b[0m                         Traceback (most recent call last)",
            "\u001b[0;32m<ipython-input-4-ab1faba0f66a>\u001b[0m in \u001b[0;36m<cell line: 1>\u001b[0;34m()\u001b[0m\n\u001b[0;32m----> 1\u001b[0;31m \u001b[0mtrain_df\u001b[0m \u001b[0;34m=\u001b[0m \u001b[0mpd\u001b[0m\u001b[0;34m.\u001b[0m\u001b[0mread_csv\u001b[0m\u001b[0;34m(\u001b[0m\u001b[0;34m\"/kaggle/input/banking-dataset-marketing-targets/train.csv\"\u001b[0m\u001b[0;34m,\u001b[0m \u001b[0msep\u001b[0m\u001b[0;34m=\u001b[0m\u001b[0;34m\";\"\u001b[0m\u001b[0;34m)\u001b[0m\u001b[0;34m\u001b[0m\u001b[0;34m\u001b[0m\u001b[0m\n\u001b[0m\u001b[1;32m      2\u001b[0m \u001b[0mtest_df\u001b[0m \u001b[0;34m=\u001b[0m \u001b[0mpd\u001b[0m\u001b[0;34m.\u001b[0m\u001b[0mread_csv\u001b[0m\u001b[0;34m(\u001b[0m\u001b[0;34m\"/kaggle/input/banking-dataset-marketing-targets/test.csv\"\u001b[0m\u001b[0;34m,\u001b[0m \u001b[0msep\u001b[0m\u001b[0;34m=\u001b[0m\u001b[0;34m\";\"\u001b[0m\u001b[0;34m)\u001b[0m\u001b[0;34m\u001b[0m\u001b[0;34m\u001b[0m\u001b[0m\n\u001b[1;32m      3\u001b[0m \u001b[0mrain_df\u001b[0m\u001b[0;34m.\u001b[0m\u001b[0mhead\u001b[0m\u001b[0;34m(\u001b[0m\u001b[0;34m)\u001b[0m\u001b[0;34m\u001b[0m\u001b[0;34m\u001b[0m\u001b[0m\n",
            "\u001b[0;32m/usr/local/lib/python3.10/dist-packages/pandas/io/parsers/readers.py\u001b[0m in \u001b[0;36mread_csv\u001b[0;34m(filepath_or_buffer, sep, delimiter, header, names, index_col, usecols, dtype, engine, converters, true_values, false_values, skipinitialspace, skiprows, skipfooter, nrows, na_values, keep_default_na, na_filter, verbose, skip_blank_lines, parse_dates, infer_datetime_format, keep_date_col, date_parser, date_format, dayfirst, cache_dates, iterator, chunksize, compression, thousands, decimal, lineterminator, quotechar, quoting, doublequote, escapechar, comment, encoding, encoding_errors, dialect, on_bad_lines, delim_whitespace, low_memory, memory_map, float_precision, storage_options, dtype_backend)\u001b[0m\n\u001b[1;32m   1024\u001b[0m     \u001b[0mkwds\u001b[0m\u001b[0;34m.\u001b[0m\u001b[0mupdate\u001b[0m\u001b[0;34m(\u001b[0m\u001b[0mkwds_defaults\u001b[0m\u001b[0;34m)\u001b[0m\u001b[0;34m\u001b[0m\u001b[0;34m\u001b[0m\u001b[0m\n\u001b[1;32m   1025\u001b[0m \u001b[0;34m\u001b[0m\u001b[0m\n\u001b[0;32m-> 1026\u001b[0;31m     \u001b[0;32mreturn\u001b[0m \u001b[0m_read\u001b[0m\u001b[0;34m(\u001b[0m\u001b[0mfilepath_or_buffer\u001b[0m\u001b[0;34m,\u001b[0m \u001b[0mkwds\u001b[0m\u001b[0;34m)\u001b[0m\u001b[0;34m\u001b[0m\u001b[0;34m\u001b[0m\u001b[0m\n\u001b[0m\u001b[1;32m   1027\u001b[0m \u001b[0;34m\u001b[0m\u001b[0m\n\u001b[1;32m   1028\u001b[0m \u001b[0;34m\u001b[0m\u001b[0m\n",
            "\u001b[0;32m/usr/local/lib/python3.10/dist-packages/pandas/io/parsers/readers.py\u001b[0m in \u001b[0;36m_read\u001b[0;34m(filepath_or_buffer, kwds)\u001b[0m\n\u001b[1;32m    618\u001b[0m \u001b[0;34m\u001b[0m\u001b[0m\n\u001b[1;32m    619\u001b[0m     \u001b[0;31m# Create the parser.\u001b[0m\u001b[0;34m\u001b[0m\u001b[0;34m\u001b[0m\u001b[0m\n\u001b[0;32m--> 620\u001b[0;31m     \u001b[0mparser\u001b[0m \u001b[0;34m=\u001b[0m \u001b[0mTextFileReader\u001b[0m\u001b[0;34m(\u001b[0m\u001b[0mfilepath_or_buffer\u001b[0m\u001b[0;34m,\u001b[0m \u001b[0;34m**\u001b[0m\u001b[0mkwds\u001b[0m\u001b[0;34m)\u001b[0m\u001b[0;34m\u001b[0m\u001b[0;34m\u001b[0m\u001b[0m\n\u001b[0m\u001b[1;32m    621\u001b[0m \u001b[0;34m\u001b[0m\u001b[0m\n\u001b[1;32m    622\u001b[0m     \u001b[0;32mif\u001b[0m \u001b[0mchunksize\u001b[0m \u001b[0;32mor\u001b[0m \u001b[0miterator\u001b[0m\u001b[0;34m:\u001b[0m\u001b[0;34m\u001b[0m\u001b[0;34m\u001b[0m\u001b[0m\n",
            "\u001b[0;32m/usr/local/lib/python3.10/dist-packages/pandas/io/parsers/readers.py\u001b[0m in \u001b[0;36m__init__\u001b[0;34m(self, f, engine, **kwds)\u001b[0m\n\u001b[1;32m   1618\u001b[0m \u001b[0;34m\u001b[0m\u001b[0m\n\u001b[1;32m   1619\u001b[0m         \u001b[0mself\u001b[0m\u001b[0;34m.\u001b[0m\u001b[0mhandles\u001b[0m\u001b[0;34m:\u001b[0m \u001b[0mIOHandles\u001b[0m \u001b[0;34m|\u001b[0m \u001b[0;32mNone\u001b[0m \u001b[0;34m=\u001b[0m \u001b[0;32mNone\u001b[0m\u001b[0;34m\u001b[0m\u001b[0;34m\u001b[0m\u001b[0m\n\u001b[0;32m-> 1620\u001b[0;31m         \u001b[0mself\u001b[0m\u001b[0;34m.\u001b[0m\u001b[0m_engine\u001b[0m \u001b[0;34m=\u001b[0m \u001b[0mself\u001b[0m\u001b[0;34m.\u001b[0m\u001b[0m_make_engine\u001b[0m\u001b[0;34m(\u001b[0m\u001b[0mf\u001b[0m\u001b[0;34m,\u001b[0m \u001b[0mself\u001b[0m\u001b[0;34m.\u001b[0m\u001b[0mengine\u001b[0m\u001b[0;34m)\u001b[0m\u001b[0;34m\u001b[0m\u001b[0;34m\u001b[0m\u001b[0m\n\u001b[0m\u001b[1;32m   1621\u001b[0m \u001b[0;34m\u001b[0m\u001b[0m\n\u001b[1;32m   1622\u001b[0m     \u001b[0;32mdef\u001b[0m \u001b[0mclose\u001b[0m\u001b[0;34m(\u001b[0m\u001b[0mself\u001b[0m\u001b[0;34m)\u001b[0m \u001b[0;34m->\u001b[0m \u001b[0;32mNone\u001b[0m\u001b[0;34m:\u001b[0m\u001b[0;34m\u001b[0m\u001b[0;34m\u001b[0m\u001b[0m\n",
            "\u001b[0;32m/usr/local/lib/python3.10/dist-packages/pandas/io/parsers/readers.py\u001b[0m in \u001b[0;36m_make_engine\u001b[0;34m(self, f, engine)\u001b[0m\n\u001b[1;32m   1878\u001b[0m                 \u001b[0;32mif\u001b[0m \u001b[0;34m\"b\"\u001b[0m \u001b[0;32mnot\u001b[0m \u001b[0;32min\u001b[0m \u001b[0mmode\u001b[0m\u001b[0;34m:\u001b[0m\u001b[0;34m\u001b[0m\u001b[0;34m\u001b[0m\u001b[0m\n\u001b[1;32m   1879\u001b[0m                     \u001b[0mmode\u001b[0m \u001b[0;34m+=\u001b[0m \u001b[0;34m\"b\"\u001b[0m\u001b[0;34m\u001b[0m\u001b[0;34m\u001b[0m\u001b[0m\n\u001b[0;32m-> 1880\u001b[0;31m             self.handles = get_handle(\n\u001b[0m\u001b[1;32m   1881\u001b[0m                 \u001b[0mf\u001b[0m\u001b[0;34m,\u001b[0m\u001b[0;34m\u001b[0m\u001b[0;34m\u001b[0m\u001b[0m\n\u001b[1;32m   1882\u001b[0m                 \u001b[0mmode\u001b[0m\u001b[0;34m,\u001b[0m\u001b[0;34m\u001b[0m\u001b[0;34m\u001b[0m\u001b[0m\n",
            "\u001b[0;32m/usr/local/lib/python3.10/dist-packages/pandas/io/common.py\u001b[0m in \u001b[0;36mget_handle\u001b[0;34m(path_or_buf, mode, encoding, compression, memory_map, is_text, errors, storage_options)\u001b[0m\n\u001b[1;32m    871\u001b[0m         \u001b[0;32mif\u001b[0m \u001b[0mioargs\u001b[0m\u001b[0;34m.\u001b[0m\u001b[0mencoding\u001b[0m \u001b[0;32mand\u001b[0m \u001b[0;34m\"b\"\u001b[0m \u001b[0;32mnot\u001b[0m \u001b[0;32min\u001b[0m \u001b[0mioargs\u001b[0m\u001b[0;34m.\u001b[0m\u001b[0mmode\u001b[0m\u001b[0;34m:\u001b[0m\u001b[0;34m\u001b[0m\u001b[0;34m\u001b[0m\u001b[0m\n\u001b[1;32m    872\u001b[0m             \u001b[0;31m# Encoding\u001b[0m\u001b[0;34m\u001b[0m\u001b[0;34m\u001b[0m\u001b[0m\n\u001b[0;32m--> 873\u001b[0;31m             handle = open(\n\u001b[0m\u001b[1;32m    874\u001b[0m                 \u001b[0mhandle\u001b[0m\u001b[0;34m,\u001b[0m\u001b[0;34m\u001b[0m\u001b[0;34m\u001b[0m\u001b[0m\n\u001b[1;32m    875\u001b[0m                 \u001b[0mioargs\u001b[0m\u001b[0;34m.\u001b[0m\u001b[0mmode\u001b[0m\u001b[0;34m,\u001b[0m\u001b[0;34m\u001b[0m\u001b[0;34m\u001b[0m\u001b[0m\n",
            "\u001b[0;31mFileNotFoundError\u001b[0m: [Errno 2] No such file or directory: '/kaggle/input/banking-dataset-marketing-targets/train.csv'"
          ]
        }
      ]
    },
    {
      "cell_type": "code",
      "source": [
        "train_df.info()"
      ],
      "metadata": {
        "colab": {
          "base_uri": "https://localhost:8080/",
          "height": 143
        },
        "id": "_zsGORORZcM2",
        "outputId": "be399efe-1608-454c-b9a7-0a7670c5927d"
      },
      "execution_count": null,
      "outputs": [
        {
          "output_type": "error",
          "ename": "NameError",
          "evalue": "name 'train_df' is not defined",
          "traceback": [
            "\u001b[0;31m---------------------------------------------------------------------------\u001b[0m",
            "\u001b[0;31mNameError\u001b[0m                                 Traceback (most recent call last)",
            "\u001b[0;32m<ipython-input-5-6d6c65da5af8>\u001b[0m in \u001b[0;36m<cell line: 1>\u001b[0;34m()\u001b[0m\n\u001b[0;32m----> 1\u001b[0;31m \u001b[0mtrain_df\u001b[0m\u001b[0;34m.\u001b[0m\u001b[0minfo\u001b[0m\u001b[0;34m(\u001b[0m\u001b[0;34m)\u001b[0m\u001b[0;34m\u001b[0m\u001b[0;34m\u001b[0m\u001b[0m\n\u001b[0m",
            "\u001b[0;31mNameError\u001b[0m: name 'train_df' is not defined"
          ]
        }
      ]
    },
    {
      "cell_type": "code",
      "source": [
        "test_df.shape"
      ],
      "metadata": {
        "id": "q8zn5XaMZjj2"
      },
      "execution_count": null,
      "outputs": []
    },
    {
      "cell_type": "code",
      "source": [
        "df = train_df.copy()"
      ],
      "metadata": {
        "id": "5_JjX24kZlyV"
      },
      "execution_count": null,
      "outputs": []
    },
    {
      "cell_type": "code",
      "source": [
        "df['y'].value_counts()"
      ],
      "metadata": {
        "id": "6RzLyQkeZnOP"
      },
      "execution_count": null,
      "outputs": []
    },
    {
      "cell_type": "code",
      "source": [
        "test_size = test_df.shape[0]\n",
        "train_size = train_df.shape[0]"
      ],
      "metadata": {
        "id": "VozW9sWRZpk0"
      },
      "execution_count": null,
      "outputs": []
    },
    {
      "cell_type": "code",
      "source": [
        "yes_df = train_df[train_df['y'] == 'yes']\n",
        "no_df = train_df[train_df['y'] == 'no']\n",
        "\n",
        "df = pd.concat([yes_df, no_df.sample(int(no_df.shape[0] * .5))])\n",
        "df = df.sample(frac=1).reset_index(drop=True)\n"
      ],
      "metadata": {
        "id": "rBLdFwo9Zs68"
      },
      "execution_count": null,
      "outputs": []
    },
    {
      "cell_type": "code",
      "source": [
        "# df22 = df.groupby('y').sample(5289).reset_index(drop=True)\n",
        "# df22 = df22.sample(frac=1).reset_index(drop=True)\n",
        "# df22.head()\n",
        "# df = df22"
      ],
      "metadata": {
        "id": "In7N753tZwT6"
      },
      "execution_count": null,
      "outputs": []
    },
    {
      "cell_type": "code",
      "source": [
        "# df22['y'].value_counts()"
      ],
      "metadata": {
        "id": "rdzH1MCUZ0ot"
      },
      "execution_count": null,
      "outputs": []
    },
    {
      "cell_type": "code",
      "source": [
        "df['y'].value_counts()"
      ],
      "metadata": {
        "id": "QW7xfbtDZ2aF"
      },
      "execution_count": null,
      "outputs": []
    },
    {
      "cell_type": "code",
      "source": [
        "num_cols = df.select_dtypes(\"number\").columns\n",
        "num_cols"
      ],
      "metadata": {
        "id": "PZwiu6-YZ4qt"
      },
      "execution_count": null,
      "outputs": []
    },
    {
      "cell_type": "code",
      "source": [
        "str_cols = df.select_dtypes(\"O\").columns\n",
        "str_cols"
      ],
      "metadata": {
        "id": "eYVL2uPPaAcX"
      },
      "execution_count": null,
      "outputs": []
    },
    {
      "cell_type": "code",
      "source": [
        "df[num_cols].describe().T.iloc[:, 1:]"
      ],
      "metadata": {
        "id": "dPGujPjfaDRS"
      },
      "execution_count": null,
      "outputs": []
    },
    {
      "cell_type": "code",
      "source": [
        "str_des = df[str_cols].describe().T.iloc[:, 1:]\n",
        "str_des"
      ],
      "metadata": {
        "id": "0H0bLKw5aFBQ"
      },
      "execution_count": null,
      "outputs": []
    },
    {
      "cell_type": "code",
      "source": [
        "binary_cols = str_des[(str_des['unique'] == 2)].index\n",
        "for col in binary_cols:\n",
        "    print(f\"{col}:\\n{df[col].unique()}\\n\")"
      ],
      "metadata": {
        "id": "5SuBwmKJaG9W"
      },
      "execution_count": null,
      "outputs": []
    },
    {
      "cell_type": "code",
      "source": [
        "df.hist(figsize=(10, 10), x='age', title='Age distribution')"
      ],
      "metadata": {
        "id": "hPmEJHIOaKJl"
      },
      "execution_count": null,
      "outputs": []
    },
    {
      "cell_type": "code",
      "source": [
        "df.groupby('age')['y'].value_counts(\n",
        "    normalize=True).unstack().plot(kind='bar', title='The Y value distribution in each age category')\n"
      ],
      "metadata": {
        "id": "026hcsM2aMIN"
      },
      "execution_count": null,
      "outputs": []
    },
    {
      "cell_type": "code",
      "source": [
        "df['age_cat'] = pd.cut(df.age,\n",
        "                       bins=[0, 30, 60, np.inf],\n",
        "                       labels=[1, 2, 3]\n",
        "                       ).astype(np.uint8)"
      ],
      "metadata": {
        "id": "y89DcezEaOwV"
      },
      "execution_count": null,
      "outputs": []
    },
    {
      "cell_type": "code",
      "source": [
        "df_grouped = df.groupby('age_cat')['y'].value_counts(\n",
        "    normalize=True).unstack().T\n",
        "df_grouped"
      ],
      "metadata": {
        "id": "IWlJuc0UaQ0w"
      },
      "execution_count": null,
      "outputs": []
    },
    {
      "cell_type": "code",
      "source": [
        "# Create a subplot layout\n",
        "fig = make_subplots(rows=1,\n",
        "                    cols=len(df_grouped.columns),\n",
        "                    specs=[\n",
        "                        [\n",
        "                            {'type': 'pie'}\n",
        "                        ] * len(df_grouped.columns)\n",
        "                    ],\n",
        "                    subplot_titles=df_grouped.columns.astype(str),\n",
        "\n",
        "                    )\n",
        "\n",
        "# Iterate through each age category and add a pie chart to the subplot\n",
        "for i, age_cat in enumerate(df_grouped.columns):\n",
        "    data = df_grouped[age_cat]\n",
        "    fig.add_trace(\n",
        "        go.Pie(labels=data.index, values=data.values,\n",
        "               name=f'age_cat: {age_cat}', title=f'Age Category'),\n",
        "        row=1,\n",
        "        col=i+1\n",
        "    )\n",
        "\n",
        "# Update layout\n",
        "fig.update_layout(\n",
        "    title_text='Y value distribution in each age category',\n",
        ")"
      ],
      "metadata": {
        "id": "e9b7Rn-0aVUV"
      },
      "execution_count": null,
      "outputs": []
    },
    {
      "cell_type": "code",
      "source": [
        "df['age_cat'] = pd.cut(df.age,\n",
        "                       bins=[0, 30, 60, np.inf],\n",
        "                       labels=[1, 2, 3]\n",
        "                       ).astype(np.uint8)"
      ],
      "metadata": {
        "id": "7BQ59dE4acY4"
      },
      "execution_count": null,
      "outputs": []
    },
    {
      "cell_type": "code",
      "source": [
        "df_grouped = df.groupby('age_cat')['y'].value_counts(\n",
        "    normalize=True).unstack().T\n",
        "df_grouped"
      ],
      "metadata": {
        "id": "vUQnrH8pag5P"
      },
      "execution_count": null,
      "outputs": []
    },
    {
      "cell_type": "code",
      "source": [
        "# Create a subplot layout\n",
        "fig = make_subplots(rows=1,\n",
        "                    cols=len(df_grouped.columns),\n",
        "                    specs=[\n",
        "                        [\n",
        "                            {'type': 'pie'}\n",
        "                        ] * len(df_grouped.columns)\n",
        "                    ],\n",
        "                    subplot_titles=df_grouped.columns.astype(str),\n",
        "\n",
        "                    )\n",
        "\n",
        "# Iterate through each age category and add a pie chart to the subplot\n",
        "for i, age_cat in enumerate(df_grouped.columns):\n",
        "    data = df_grouped[age_cat]\n",
        "    fig.add_trace(\n",
        "        go.Pie(labels=data.index, values=data.values,\n",
        "               name=f'age_cat: {age_cat}', title=f'Age Category'),\n",
        "        row=1,\n",
        "        col=i+1\n",
        "    )\n",
        "\n",
        "# Update layout\n",
        "fig.update_layout(\n",
        "    title_text='Y value distribution in each age category',\n",
        ")"
      ],
      "metadata": {
        "id": "DpbAvI5fajV4"
      },
      "execution_count": null,
      "outputs": []
    },
    {
      "cell_type": "code",
      "source": [
        "df_grouped = df.groupby('age_cat', as_index=False)['balance'].describe()\n",
        "df_grouped"
      ],
      "metadata": {
        "id": "pJsggYitaqiP"
      },
      "execution_count": null,
      "outputs": []
    },
    {
      "cell_type": "code",
      "source": [
        "fig = px.bar(df_grouped,\n",
        "             x='age_cat',\n",
        "             y='mean',\n",
        "             color='count',\n",
        "             title='Mean balance in each age category and it\\'s count',)\n",
        "\n",
        "fig.update_layout(\n",
        "    xaxis_title=\"Age Category\",\n",
        "    yaxis_title=\"Mean Balance\",\n",
        ")"
      ],
      "metadata": {
        "id": "8DMlEmsJasyD"
      },
      "execution_count": null,
      "outputs": []
    },
    {
      "cell_type": "code",
      "source": [
        "num_cols"
      ],
      "metadata": {
        "id": "CLiCCS0Tavvx"
      },
      "execution_count": null,
      "outputs": []
    },
    {
      "cell_type": "code",
      "source": [
        "str_cols"
      ],
      "metadata": {
        "id": "Uia5fnyFayBY"
      },
      "execution_count": null,
      "outputs": []
    },
    {
      "cell_type": "code",
      "source": [
        "df_grouped = df.groupby('job')['balance'].describe(\n",
        ").iloc[:, :2].sort_values(by=['mean', 'count'], ascending=False)\n",
        "df_grouped"
      ],
      "metadata": {
        "id": "ivinqNXSa4Fm"
      },
      "execution_count": null,
      "outputs": []
    },
    {
      "cell_type": "code",
      "source": [
        "job_age_ = df.groupby('job')['age'].mean().rename(\n",
        "    'mean_age').sort_values(ascending=False)\n",
        "job_age_"
      ],
      "metadata": {
        "id": "YvzZVy-Na6Fp"
      },
      "execution_count": null,
      "outputs": []
    },
    {
      "cell_type": "code",
      "source": [
        "from typing import Literal\n",
        "\n",
        "\n",
        "def label_age_group(age) -> None | Literal[1] | Literal[2] | Literal[3]:\n",
        "\n",
        "    if age < 30:\n",
        "        return 1\n",
        "    elif age <= 60:\n",
        "        return 2\n",
        "    elif age <= 90 or age > 90:\n",
        "        return 3"
      ],
      "metadata": {
        "id": "l5D_5xNIa9KQ"
      },
      "execution_count": null,
      "outputs": []
    },
    {
      "cell_type": "code",
      "source": [
        "# Create a subplot layout\n",
        "\n",
        "from numpy import around\n",
        "\n",
        "\n",
        "df_grouped['age_group'] = job_age_.map(label_age_group).rename('age_group')\n",
        "\n",
        "\n",
        "fig = make_subplots(rows=2,\n",
        "                    cols=2,\n",
        "                    specs=[\n",
        "\n",
        "                        [\n",
        "                            {'type': 'bar'},\n",
        "                            {'type': 'pie'}\n",
        "                        ],\n",
        "                        [\n",
        "                            {'type': 'bar'},\n",
        "                            {'type': 'bar'}\n",
        "                        ]\n",
        "                    ],\n",
        "                    subplot_titles=[\n",
        "                        'Mean Balance for each job category',\n",
        "                        'Count Percentage',\n",
        "                        'Mean Age Group for each job category',\n",
        "                        'Percentage Yes for each jobs'\n",
        "                    ],\n",
        "                    )\n",
        "\n",
        "\n",
        "fig.add_trace(\n",
        "    go.Bar(x=df_grouped.index,\n",
        "           y=df_grouped['mean'],\n",
        "           name='Mean Balance'),\n",
        "    row=1,\n",
        "    col=1,\n",
        ")\n",
        "\n",
        "fig.add_trace(\n",
        "    go.Pie(labels=df_grouped.index,\n",
        "           values=df_grouped['count']),\n",
        "    row=1,\n",
        "    col=2\n",
        ")\n",
        "\n",
        "fig.add_trace(\n",
        "    go.Bar(x=df_grouped.index,\n",
        "           y=df_grouped['age_group'],\n",
        "           name='age_group', text=df_grouped['age_group']),\n",
        "    row=2,\n",
        "    col=1,\n",
        ")\n",
        "\n",
        "yes_job_percentage = (df[df['y'] == 'yes']['job']\n",
        "                      .value_counts() /\n",
        "                      df['job'].value_counts()\n",
        "                      ).sort_values(ascending=False)\n",
        "\n",
        "\n",
        "fig.add_trace(\n",
        "    go.Bar(x=yes_job_percentage.index, y=yes_job_percentage, name='Yes Percentage',\n",
        "           text=round(yes_job_percentage*100).astype(str) + ' %', textposition='auto'),\n",
        "    row=2,\n",
        "    col=2,\n",
        ")\n",
        "\n",
        "fig.update_layout(height=800, width=1000)"
      ],
      "metadata": {
        "id": "3h8umhmoa_9Z"
      },
      "execution_count": null,
      "outputs": []
    },
    {
      "cell_type": "code",
      "source": [
        "num_cols"
      ],
      "metadata": {
        "id": "7HVfvcT9bG3A"
      },
      "execution_count": null,
      "outputs": []
    },
    {
      "cell_type": "code",
      "source": [
        "str_cols"
      ],
      "metadata": {
        "id": "VRBBTLA1bJCJ"
      },
      "execution_count": null,
      "outputs": []
    },
    {
      "cell_type": "code",
      "source": [
        "yes_marital_percentage = df[df['y'] == 'yes']['marital'].value_counts(\n",
        ")/df['marital'].value_counts()\n",
        "yes_marital_percentage"
      ],
      "metadata": {
        "id": "atJkj0MQbKpf"
      },
      "execution_count": null,
      "outputs": []
    },
    {
      "cell_type": "code",
      "source": [
        "grouped_df = df.groupby(by=['marital', 'y'])['balance'].mean(\n",
        ").sort_values(ascending=False).reset_index()\n",
        "grouped_df"
      ],
      "metadata": {
        "id": "Bu-Lu_a9bNFZ"
      },
      "execution_count": null,
      "outputs": []
    },
    {
      "cell_type": "code",
      "source": [
        "# Creating bar traces for each 'y' category\n",
        "yes_trace = go.Bar(\n",
        "    x=grouped_df[grouped_df['y'] == 'yes']['marital'],\n",
        "    y=grouped_df[grouped_df['y'] == 'yes']['balance'],\n",
        "    name='yes',\n",
        "    marker=dict(color='lightblue')\n",
        ")\n",
        "\n",
        "no_trace = go.Bar(\n",
        "    x=grouped_df[grouped_df['y'] == 'no']['marital'],\n",
        "    y=grouped_df[grouped_df['y'] == 'no']['balance'],\n",
        "    name='no',\n",
        "    marker=dict(color='orange')\n",
        ")"
      ],
      "metadata": {
        "id": "NN-Ir1rTbPNy"
      },
      "execution_count": null,
      "outputs": []
    },
    {
      "cell_type": "code",
      "source": [
        "yes_marital_percentage = df[df['y'] == 'yes']['marital'].value_counts(\n",
        ") / df['marital'].value_counts()\n",
        "yes_marital_percentage"
      ],
      "metadata": {
        "id": "8_PxwSdPbSwN"
      },
      "execution_count": null,
      "outputs": []
    },
    {
      "cell_type": "code",
      "source": [
        "yes_marital_percentage_trace = go.Pie(\n",
        "    labels=yes_marital_percentage.index,\n",
        "    values=yes_marital_percentage.values,\n",
        ")"
      ],
      "metadata": {
        "id": "f2pTdgyEbVCK"
      },
      "execution_count": null,
      "outputs": []
    },
    {
      "cell_type": "code",
      "source": [
        "fig = make_subplots(\n",
        "    rows=1,\n",
        "    cols=2,\n",
        "    specs=[\n",
        "        [\n",
        "            {'type': 'xy'},\n",
        "            {'type': 'pie'}\n",
        "        ]\n",
        "    ],\n",
        "    subplot_titles=[\n",
        "        'Mean Balance for each Marital Status Grouped By Yes/No',\n",
        "        'Percentage Yes for each marital status',\n",
        "    ]\n",
        ")\n",
        "\n",
        "fig.add_trace(\n",
        "    yes_trace,\n",
        "    row=1,\n",
        "    col=1\n",
        ")\n",
        "fig.add_trace(\n",
        "    no_trace,\n",
        "    row=1,\n",
        "    col=1\n",
        ")\n",
        "\n",
        "fig.add_trace(\n",
        "    yes_marital_percentage_trace,\n",
        "    row=1,\n",
        "    col=2\n",
        ")"
      ],
      "metadata": {
        "id": "vSMWVsSkbZMb"
      },
      "execution_count": null,
      "outputs": []
    },
    {
      "cell_type": "code",
      "source": [
        "num_cols"
      ],
      "metadata": {
        "id": "nZcgaboHbgGM"
      },
      "execution_count": null,
      "outputs": []
    },
    {
      "cell_type": "code",
      "source": [
        "str_cols"
      ],
      "metadata": {
        "id": "yzXGhfAVbiTn"
      },
      "execution_count": null,
      "outputs": []
    },
    {
      "cell_type": "code",
      "source": [
        "yes_marital_percentage = df[df['y'] == 'yes']['marital'].value_counts(\n",
        ")/df['marital'].value_counts()\n",
        "yes_marital_percentage"
      ],
      "metadata": {
        "id": "xHZwS7oNbwmR"
      },
      "execution_count": null,
      "outputs": []
    },
    {
      "cell_type": "code",
      "source": [
        "grouped_df = df.groupby(by=['marital', 'y'])['balance'].mean(\n",
        ").sort_values(ascending=False).reset_index()\n",
        "grouped_df"
      ],
      "metadata": {
        "id": "uwhRkPPGbzlX"
      },
      "execution_count": null,
      "outputs": []
    },
    {
      "cell_type": "code",
      "source": [
        "# Creating bar traces for each 'y' category\n",
        "yes_trace = go.Bar(\n",
        "    x=grouped_df[grouped_df['y'] == 'yes']['marital'],\n",
        "    y=grouped_df[grouped_df['y'] == 'yes']['balance'],\n",
        "    name='yes',\n",
        "    marker=dict(color='lightblue')\n",
        ")\n",
        "\n",
        "no_trace = go.Bar(\n",
        "    x=grouped_df[grouped_df['y'] == 'no']['marital'],\n",
        "    y=grouped_df[grouped_df['y'] == 'no']['balance'],\n",
        "    name='no',\n",
        "    marker=dict(color='orange')\n",
        ")"
      ],
      "metadata": {
        "id": "jyuOlIvBb1XM"
      },
      "execution_count": null,
      "outputs": []
    },
    {
      "cell_type": "code",
      "source": [
        "yes_marital_percentage = df[df['y'] == 'yes']['marital'].value_counts(\n",
        ") / df['marital'].value_counts()\n",
        "yes_marital_percentage"
      ],
      "metadata": {
        "id": "hDl1BYgUb6db"
      },
      "execution_count": null,
      "outputs": []
    },
    {
      "cell_type": "code",
      "source": [
        "yes_marital_percentage_trace = go.Pie(\n",
        "    labels=yes_marital_percentage.index,\n",
        "    values=yes_marital_percentage.values,\n",
        ")"
      ],
      "metadata": {
        "id": "fsCUwsvBb7-1"
      },
      "execution_count": null,
      "outputs": []
    },
    {
      "cell_type": "code",
      "source": [
        "fig = make_subplots(\n",
        "    rows=1,\n",
        "    cols=2,\n",
        "    specs=[\n",
        "        [\n",
        "            {'type': 'xy'},\n",
        "            {'type': 'pie'}\n",
        "        ]\n",
        "    ],\n",
        "    subplot_titles=[\n",
        "        'Mean Balance for each Marital Status Grouped By Yes/No',\n",
        "        'Percentage Yes for each marital status',\n",
        "    ]\n",
        ")\n",
        "\n",
        "fig.add_trace(\n",
        "    yes_trace,\n",
        "    row=1,\n",
        "    col=1\n",
        ")\n",
        "fig.add_trace(\n",
        "    no_trace,\n",
        "    row=1,\n",
        "    col=1\n",
        ")\n",
        "\n",
        "fig.add_trace(\n",
        "    yes_marital_percentage_trace,\n",
        "    row=1,\n",
        "    col=2\n",
        ")"
      ],
      "metadata": {
        "id": "2yOJBqv1b_W-"
      },
      "execution_count": null,
      "outputs": []
    },
    {
      "cell_type": "code",
      "source": [
        "num_cols"
      ],
      "metadata": {
        "id": "9SDWF3aycDiK"
      },
      "execution_count": null,
      "outputs": []
    },
    {
      "cell_type": "code",
      "source": [
        "str_cols"
      ],
      "metadata": {
        "id": "wGAvzlw8cFP-"
      },
      "execution_count": null,
      "outputs": []
    },
    {
      "cell_type": "code",
      "source": [
        "options_ = ['yes', 'no']\n",
        "\n",
        "fig = make_subplots(\n",
        "    rows=2,\n",
        "    cols=2,\n",
        "    specs=[\n",
        "        [\n",
        "            {'type': 'pie'},\n",
        "            {'type': 'pie'}\n",
        "        ],\n",
        "        [\n",
        "            {'type': 'pie'},\n",
        "            {'type': 'pie'}\n",
        "        ]\n",
        "    ],\n",
        "    subplot_titles=[\n",
        "        'loan: {}, housing: {}'.format(loan_, housing_)\n",
        "        for loan_ in options_\n",
        "        for housing_ in options_\n",
        "    ]\n",
        ")\n",
        "\n",
        "\n",
        "for i, housing_ in enumerate(options_):\n",
        "    for e, loan_ in enumerate(options_):\n",
        "        temp = df[(df['loan'] == loan_) & (df['housing'] == housing_)\n",
        "                  ]['y'].value_counts(normalize=True)\n",
        "\n",
        "        fig.add_trace(\n",
        "            go.Pie(\n",
        "                labels=temp.index,\n",
        "                values=temp.values,\n",
        "                name='loan: {}, housing: {}'.format(loan_, housing_),\n",
        "            ),\n",
        "            row=i+1, col=e+1)\n",
        "\n",
        "fig.update_layout(\n",
        "    height=700,\n",
        "    width=1300,\n",
        "    title_text='Loan vs. Housing vs. Yes/No',\n",
        "    legend_title_text='y'\n",
        "\n",
        ")"
      ],
      "metadata": {
        "id": "rvzJFDQCcGya"
      },
      "execution_count": null,
      "outputs": []
    },
    {
      "cell_type": "code",
      "source": [
        "t = (df.groupby(by=['loan', 'housing'])[\n",
        "    'default'].value_counts(normalize=True).sort_values(ascending=False)*100).reset_index()\n",
        "t"
      ],
      "metadata": {
        "id": "20GHUACUcKVT"
      },
      "execution_count": null,
      "outputs": []
    },
    {
      "cell_type": "code",
      "source": [
        "t_g = t[t['default'] == 'yes'].drop('default', axis=1)\n",
        "t_g['names'] = f'loan= ' + t_g['loan'] + ', housing= ' + t_g['housing']\n",
        "t_g"
      ],
      "metadata": {
        "id": "QmxQj6SJcNkL"
      },
      "execution_count": null,
      "outputs": []
    },
    {
      "cell_type": "code",
      "source": [
        "dff2 = pd.get_dummies(dff2, columns=['job', 'marital', 'contact', 'poutcome'])"
      ],
      "metadata": {
        "id": "6YZ-n_9lcQIE"
      },
      "execution_count": null,
      "outputs": []
    },
    {
      "cell_type": "code",
      "source": [
        "rc = RandomForestClassifier()\n",
        "\n",
        "rc.fit(x_train, y_train)\n",
        "\n",
        "rc.score(x_test, y_test)"
      ],
      "metadata": {
        "id": "mntOqqaOcVe5"
      },
      "execution_count": null,
      "outputs": []
    },
    {
      "cell_type": "code",
      "source": [
        "print(classification_report(y_test, rc.predict(x_test)))"
      ],
      "metadata": {
        "id": "rgRDtztLcZe3"
      },
      "execution_count": null,
      "outputs": []
    }
  ]
}